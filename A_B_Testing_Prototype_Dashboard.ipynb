{
  "nbformat": 4,
  "nbformat_minor": 0,
  "metadata": {
    "colab": {
      "provenance": [],
      "authorship_tag": "ABX9TyMHPY2YVc1w2CYf2tGaOJ8A",
      "include_colab_link": true
    },
    "kernelspec": {
      "name": "python3",
      "display_name": "Python 3"
    },
    "language_info": {
      "name": "python"
    }
  },
  "cells": [
    {
      "cell_type": "markdown",
      "metadata": {
        "id": "view-in-github",
        "colab_type": "text"
      },
      "source": [
        "<a href=\"https://colab.research.google.com/github/shubham14yadav/Prototype-Dashboard-for-A-B-testing/blob/main/A_B_Testing_Prototype_Dashboard.ipynb\" target=\"_parent\"><img src=\"https://colab.research.google.com/assets/colab-badge.svg\" alt=\"Open In Colab\"/></a>"
      ]
    },
    {
      "cell_type": "code",
      "execution_count": 2,
      "metadata": {
        "id": "kIDt0aQJdOOV"
      },
      "outputs": [],
      "source": [
        "#pip install dash pandas scipy"
      ]
    },
    {
      "cell_type": "code",
      "source": [
        "import base64\n",
        "import io\n",
        "\n",
        "import dash\n",
        "from dash import dcc, html, Input, Output, State\n",
        "import dash_table\n",
        "import pandas as pd\n",
        "from scipy import stats\n",
        "\n",
        "app = dash.Dash(__name__)\n",
        "\n",
        "\n",
        "app.layout = html.Div([\n",
        "    html.H1(\"A/B Testing Dashboard\"),\n",
        "    dcc.Upload(\n",
        "        id='upload-data',\n",
        "        children=html.Div(['Drag and Drop or ', html.A('Select Files')]),\n",
        "        style={\n",
        "            'width': '100%',\n",
        "            'height': '60px',\n",
        "            'lineHeight': '60px',\n",
        "            'borderWidth': '1px',\n",
        "            'borderStyle': 'dashed',\n",
        "            'borderRadius': '5px',\n",
        "            'textAlign': 'center',\n",
        "            'margin': '10px'\n",
        "        },\n",
        "        multiple=False\n",
        "    ),\n",
        "    html.Div(id='output-data-upload'),\n",
        "    html.Div([\n",
        "        html.Div([\n",
        "            dcc.Dropdown(id='dropdown-a', placeholder='Select Group A'),\n",
        "        ], style={'width': '48%', 'display': 'inline-block'}),\n",
        "        html.Div([\n",
        "            dcc.Dropdown(id='dropdown-b', placeholder='Select Group B'),\n",
        "        ], style={'width': '48%', 'float': 'right', 'display': 'inline-block'})\n",
        "    ]),\n",
        "    html.Button('Run Test', id='run-test', n_clicks=0),\n",
        "    html.Div(id='test-result')\n",
        "])\n",
        "\n",
        "# Parsing uploaded data\n",
        "def parse_contents(contents, filename):\n",
        "    content_type, content_string = contents.split(',')\n",
        "    decoded = base64.b64decode(content_string)\n",
        "    try:\n",
        "        if 'csv' in filename:\n",
        "            df = pd.read_csv(io.StringIO(decoded.decode('utf-8')))\n",
        "        elif 'xls' in filename:\n",
        "            df = pd.read_excel(io.BytesIO(decoded))\n",
        "        else:\n",
        "            return html.Div(['There was an error processing this file.'])\n",
        "        return df\n",
        "    except Exception as e:\n",
        "        print(e)\n",
        "        return html.Div(['There was an error processing this file.'])\n",
        "\n",
        "# Uploading data\n",
        "@app.callback(Output('output-data-upload', 'children'),\n",
        "              Input('upload-data', 'contents'),\n",
        "              State('upload-data', 'filename'))\n",
        "def update_output(contents, filename):\n",
        "    if contents is not None:\n",
        "        df = parse_contents(contents, filename)\n",
        "        return html.Div([\n",
        "            dash_table.DataTable(\n",
        "                data=df.to_dict('records'),\n",
        "                columns=[{'name': i, 'id': i} for i in df.columns]\n",
        "            ),\n",
        "            html.Hr(),\n",
        "            html.Div('Select the columns for A/B Testing:')\n",
        "        ])\n",
        "    else:\n",
        "        return html.Div(['Upload a file to get started.'])\n",
        "\n",
        "# Updating dropdown options\n",
        "@app.callback(\n",
        "    [Output('dropdown-a', 'options'),\n",
        "     Output('dropdown-b', 'options')],\n",
        "    Input('upload-data', 'contents'),\n",
        "    State('upload-data', 'filename'))\n",
        "def update_dropdown(contents, filename):\n",
        "    if contents:\n",
        "        df = parse_contents(contents, filename)\n",
        "        return [[{'label': col, 'value': col} for col in df.columns]] * 2\n",
        "    return [[], []]\n",
        "\n",
        "# Run A/B test\n",
        "@app.callback(\n",
        "    Output('test-result', 'children'),\n",
        "    Input('run-test', 'n_clicks'),\n",
        "    [State('dropdown-a', 'value'),\n",
        "     State('dropdown-b', 'value'),\n",
        "     State('upload-data', 'contents'),\n",
        "     State('upload-data', 'filename')])\n",
        "def run_ab_test(n_clicks, group_a, group_b, contents, filename):\n",
        "    if n_clicks > 0 and group_a and group_b and contents:\n",
        "        df = parse_contents(contents, filename)\n",
        "        t_stat, p_value = stats.ttest_ind(df[group_a].dropna(), df[group_b].dropna())\n",
        "        return html.Div([\n",
        "            html.H3('A/B Test Result'),\n",
        "            html.P(f'T-statistic: {t_stat}'),\n",
        "            html.P(f'P-value: {p_value}'),\n",
        "            html.P('There is a significant difference between the two groups.' if p_value < 0.05 else 'There is no significant difference between the two groups.')\n",
        "        ])\n",
        "    return html.Div()\n",
        "\n",
        "\n",
        "if __name__ == '__main__':\n",
        "    app.run_server(debug=True)\n"
      ],
      "metadata": {
        "colab": {
          "base_uri": "https://localhost:8080/",
          "height": 810
        },
        "id": "mn8DYsPHkxht",
        "outputId": "febb3f65-6b85-4b84-ff14-f51e78aa9b9c"
      },
      "execution_count": 3,
      "outputs": [
        {
          "output_type": "stream",
          "name": "stderr",
          "text": [
            "<ipython-input-3-f555ba709981>:6: UserWarning: \n",
            "The dash_table package is deprecated. Please replace\n",
            "`import dash_table` with `from dash import dash_table`\n",
            "\n",
            "Also, if you're using any of the table format helpers (e.g. Group), replace \n",
            "`from dash_table.Format import Group` with \n",
            "`from dash.dash_table.Format import Group`\n",
            "  import dash_table\n"
          ]
        },
        {
          "output_type": "display_data",
          "data": {
            "text/plain": [
              "<IPython.core.display.Javascript object>"
            ],
            "application/javascript": [
              "(async (port, path, width, height, cache, element) => {\n",
              "    if (!google.colab.kernel.accessAllowed && !cache) {\n",
              "      return;\n",
              "    }\n",
              "    element.appendChild(document.createTextNode(''));\n",
              "    const url = await google.colab.kernel.proxyPort(port, {cache});\n",
              "    const iframe = document.createElement('iframe');\n",
              "    iframe.src = new URL(path, url).toString();\n",
              "    iframe.height = height;\n",
              "    iframe.width = width;\n",
              "    iframe.style.border = 0;\n",
              "    iframe.allow = [\n",
              "        'accelerometer',\n",
              "        'autoplay',\n",
              "        'camera',\n",
              "        'clipboard-read',\n",
              "        'clipboard-write',\n",
              "        'gyroscope',\n",
              "        'magnetometer',\n",
              "        'microphone',\n",
              "        'serial',\n",
              "        'usb',\n",
              "        'xr-spatial-tracking',\n",
              "    ].join('; ');\n",
              "    element.appendChild(iframe);\n",
              "  })(8050, \"/\", \"100%\", 650, false, window.element)"
            ]
          },
          "metadata": {}
        }
      ]
    }
  ]
}